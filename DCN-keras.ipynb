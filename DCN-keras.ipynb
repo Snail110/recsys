{
 "cells": [
  {
   "cell_type": "code",
   "execution_count": 1,
   "metadata": {},
   "outputs": [],
   "source": [
    "import numpy as np\n",
    "import pandas as pd"
   ]
  },
  {
   "cell_type": "code",
   "execution_count": 61,
   "metadata": {},
   "outputs": [],
   "source": [
    "from keras import layers\n",
    "from keras.layers import Input,Dense,Embedding,Reshape,Add,Flatten,merge,Lambda,concatenate\n",
    "from keras.optimizers import Adam\n",
    "from keras.models import Model\n",
    "from keras.utils import plot_model, np_utils\n",
    "# from sklearn.preprocessing import OneHotEncoder,StandarScaler\n",
    "from sklearn.metrics import accuracy_score\n",
    "import random"
   ]
  },
  {
   "cell_type": "code",
   "execution_count": 36,
   "metadata": {},
   "outputs": [],
   "source": [
    "from keras import backend as K"
   ]
  },
  {
   "cell_type": "code",
   "execution_count": 79,
   "metadata": {},
   "outputs": [],
   "source": [
    "from keras.utils import to_categorical"
   ]
  },
  {
   "cell_type": "code",
   "execution_count": 194,
   "metadata": {},
   "outputs": [],
   "source": [
    "from sklearn.preprocessing import LabelEncoder"
   ]
  },
  {
   "cell_type": "code",
   "execution_count": 7,
   "metadata": {},
   "outputs": [],
   "source": [
    "# config.py\n",
    "TRAIN_FILE = r\"F:\\Data\\recsys-data\\dcn\\train.csv\"\n",
    "TEST_FILE = r\"F:\\Data\\recsys-data\\dcn\\test.csv\"\n",
    "\n",
    "SUB_DIR = \"output\"\n",
    "\n",
    "\n",
    "NUM_SPLITS = 3\n",
    "RANDOM_SEED = 2017\n",
    "\n",
    "# types of columns of the dataset dataframe\n",
    "CATEGORICAL_COLS = [\n",
    "    'ps_ind_02_cat', 'ps_ind_04_cat', 'ps_ind_05_cat',\n",
    "    'ps_car_01_cat', 'ps_car_02_cat', 'ps_car_03_cat',\n",
    "    'ps_car_04_cat', 'ps_car_05_cat', 'ps_car_06_cat',\n",
    "    'ps_car_07_cat', 'ps_car_08_cat', 'ps_car_09_cat',\n",
    "    'ps_car_10_cat', 'ps_car_11_cat',\n",
    "]\n",
    "\n",
    "NUMERIC_COLS = [\n",
    "    # # binary\n",
    "    # \"ps_ind_06_bin\", \"ps_ind_07_bin\", \"ps_ind_08_bin\",\n",
    "    # \"ps_ind_09_bin\", \"ps_ind_10_bin\", \"ps_ind_11_bin\",\n",
    "    # \"ps_ind_12_bin\", \"ps_ind_13_bin\", \"ps_ind_16_bin\",\n",
    "    # \"ps_ind_17_bin\", \"ps_ind_18_bin\",\n",
    "    # \"ps_calc_15_bin\", \"ps_calc_16_bin\", \"ps_calc_17_bin\",\n",
    "    # \"ps_calc_18_bin\", \"ps_calc_19_bin\", \"ps_calc_20_bin\",\n",
    "    # numeric\n",
    "    \"ps_reg_01\", \"ps_reg_02\", \"ps_reg_03\",\n",
    "    \"ps_car_12\", \"ps_car_13\", \"ps_car_14\", \"ps_car_15\",\n",
    "\n",
    "    # feature engineering\n",
    "    \"missing_feat\", \"ps_car_13_x_ps_reg_03\",\n",
    "]\n",
    "\n",
    "IGNORE_COLS = [\n",
    "    \"id\", \"target\",\n",
    "    \"ps_calc_01\", \"ps_calc_02\", \"ps_calc_03\", \"ps_calc_04\",\n",
    "    \"ps_calc_05\", \"ps_calc_06\", \"ps_calc_07\", \"ps_calc_08\",\n",
    "    \"ps_calc_09\", \"ps_calc_10\", \"ps_calc_11\", \"ps_calc_12\",\n",
    "    \"ps_calc_13\", \"ps_calc_14\",\n",
    "    \"ps_calc_15_bin\", \"ps_calc_16_bin\", \"ps_calc_17_bin\",\n",
    "    \"ps_calc_18_bin\", \"ps_calc_19_bin\", \"ps_calc_20_bin\"\n",
    "]"
   ]
  },
  {
   "cell_type": "code",
   "execution_count": 202,
   "metadata": {},
   "outputs": [],
   "source": [
    "class FeatureDictionary(object):\n",
    "    def __init__(self,trainfile=None,testfile=None,numeric_cols = [],ignore_cols = [],cate_cols = []):\n",
    "        self.trainfile = trainfile\n",
    "        self.testfile = testfile\n",
    "        self.cate_cols = cate_cols\n",
    "        self.numeric_cols = numeric_cols\n",
    "        self.ignore_cols = ignore_cols\n",
    "        self.gen_feat_dict()\n",
    "        # feat_dict 获取cate feature每一列的字典长度。\n",
    "    def gen_feat_dict(self):\n",
    "#         df = pd.concat([self.trainfile,self.testfile])\n",
    "        df = self.trainfile\n",
    "        self.feat_cate_len = {}\n",
    "        tc = 0\n",
    "        for col in self.cate_cols:\n",
    "            # 获取每一列的类别\n",
    "            us = df[col].unique()\n",
    "            us_len = len(us)\n",
    "            # 获取每一列的类别对应的维度\n",
    "            self.feat_cate_len[col] = us_len"
   ]
  },
  {
   "cell_type": "code",
   "execution_count": 198,
   "metadata": {},
   "outputs": [],
   "source": [
    "def load_data(numeric_cols = NUMERIC_COLS,cate_cols=CATEGORICAL_COLS):\n",
    "    dfTrain = pd.read_csv(TRAIN_FILE)\n",
    "    dfTest = pd.read_csv(TEST_FILE)\n",
    "    \n",
    "    def preprocess(df):\n",
    "        cols = [c for c in df.columns if c not in ['id','target']]\n",
    "        df['missing_feat'] = np.sum((df[cols]==-1).values,axis=1)\n",
    "        df['ps_car_13_x_ps_reg_03'] = df['ps_car_13'] * df['ps_reg_03']\n",
    "        for cl in cate_cols:\n",
    "            le = LabelEncoder()\n",
    "            df[cl] = le.fit_transform(df[cl])\n",
    "        return df\n",
    "    dfTrain = preprocess(dfTrain)\n",
    "    dfTest = preprocess(dfTest)\n",
    "    \n",
    "    cols = cate_cols + numeric_cols\n",
    "    \n",
    "    X_train = dfTrain[cols]\n",
    "    y_train = to_categorical(dfTrain['target'].values)\n",
    "    \n",
    "    X_test = dfTest[cols].values\n",
    "    ids_test = dfTest['id'].values\n",
    "    \n",
    "    return dfTrain, dfTest,X_train,y_train,X_test,ids_test"
   ]
  },
  {
   "cell_type": "code",
   "execution_count": 203,
   "metadata": {},
   "outputs": [],
   "source": [
    "dfTrain, dfTest,X_train,y_train,X_test,ids_test = load_data(numeric_cols = NUMERIC_COLS,cate_cols=CATEGORICAL_COLS)"
   ]
  },
  {
   "cell_type": "code",
   "execution_count": 204,
   "metadata": {},
   "outputs": [],
   "source": [
    "fd = FeatureDictionary(dfTrain,dfTest,numeric_cols = NUMERIC_COLS,ignore_cols=IGNORE_COLS,cate_cols=CATEGORICAL_COLS)"
   ]
  },
  {
   "cell_type": "code",
   "execution_count": 176,
   "metadata": {},
   "outputs": [],
   "source": [
    "def embedding_layers(fd):\n",
    "    # 该函数主要是定义输入和embedding输入的网络层\n",
    "    embeddings_tensors = []\n",
    "    continus_tensors = []\n",
    "    cate_feature = fd.feat_cate_len\n",
    "    numeric_feature = fd.numeric_cols\n",
    "    for ec in cate_feature:\n",
    "        layer_name = ec + '_inp'\n",
    "        # for categorical features, embedding特征在维度保持在6×(category cardinality)**(1/4)\n",
    "        embed_dim = cate_feature[ec] if int(6 * np.power(cate_feature[ec],1/4)) > cate_feature[ec] else int(6 * np.power(cate_feature[ec],1/4))\n",
    "        t_inp, t_embedding = embedding_input(layer_name,cate_feature[ec],embed_dim)\n",
    "        embeddings_tensors.append((t_inp,t_embedding))\n",
    "        del (t_inp, t_embedding)\n",
    "    for cc in numeric_feature:\n",
    "        layer_name = cc +'_in'\n",
    "        t_inp,t_build = continus_input(layer_name)\n",
    "        continus_tensors.append((t_inp,t_build))\n",
    "        del (t_inp,t_build)\n",
    "    # category feature的输入 这里的输入特征顺序要与xu\n",
    "    inp_layer = [et[0] for et in embeddings_tensors]\n",
    "    inp_embed = [et[1] for et in embeddings_tensors]\n",
    "    # numeric feature的输入\n",
    "    inp_layer += [ct[0] for ct in continus_tensors]\n",
    "    inp_embed += [ct[1] for ct in continus_tensors]\n",
    "    \n",
    "    return inp_layer,inp_embed"
   ]
  },
  {
   "cell_type": "code",
   "execution_count": 177,
   "metadata": {},
   "outputs": [],
   "source": [
    "def embedding_input(name,input_dim,output_dim):\n",
    "    inp = Input(shape = (1,),dtype = 'int64',name = name)\n",
    "    embeddings = Embedding(input_dim,output_dim,input_length =1)(inp)\n",
    "    return inp,embeddings\n",
    "def continus_input(name):\n",
    "    inp = Input(shape=(1,),dtype = 'float32',name = name)\n",
    "    return inp, Reshape((1,1))(inp)"
   ]
  },
  {
   "cell_type": "code",
   "execution_count": 178,
   "metadata": {},
   "outputs": [],
   "source": [
    "class CrossLayer(layers.Layer):\n",
    "    def __init__(self,output_dim,num_layer,**kwargs):\n",
    "        self.output_dim = output_dim\n",
    "        self.num_layer = num_layer\n",
    "        super(CrossLayer,self).__init__(**kwargs)\n",
    "    \n",
    "    def build(self,input_shape):\n",
    "        self.input_dim = input_shape[2]\n",
    "        self.W = []\n",
    "        self.bias = []\n",
    "        for i in range(self.num_layer):\n",
    "            self.W.append(self.add_weight(shape=[1,self.input_dim],initializer = 'glorot_uniform',name='w_{}'.format(i),trainable=True))\n",
    "            self.bias.append(self.add_weight(shape=[1,self.input_dim],initializer = 'zeros',name='b_{}'.format(i),trainable=True))\n",
    "        self.built = True\n",
    "    def call(self,input):\n",
    "        for i in range(self.num_layer):\n",
    "            if i==0:\n",
    "                cross = Lambda(lambda x: Add()([K.sum(self.W[i]*K.batch_dot(K.reshape(x,(-1,self.input_dim,1)),x),axis=1,keepdims=True),self.bias[i],x]))(input)\n",
    "#                 cross = Lambda(lambda x: self.W[i]*K.batch_dot(K.reshape(x,(-1,self.input_dim),x)) + self.bias[i] + x)(input)\n",
    "            else:\n",
    "                cross = Lambda(lambda x: Add()([K.sum(self.W[i]*K.batch_dot(K.reshape(x,(-1,self.input_dim,1)),input),axis=1,keepdims=True),self.bias[i],input]))(cross)\n",
    "        return Flatten()(cross)\n",
    "        \n",
    "    def compute_output_shape(self,input_shape):\n",
    "        return (None,self.output_dim)   "
   ]
  },
  {
   "cell_type": "code",
   "execution_count": 179,
   "metadata": {},
   "outputs": [],
   "source": [
    "def fit(inp_layer,inp_embed,X,y):\n",
    "    inp = concatenate(inp_embed,axis=-1)\n",
    "    #deep layer\n",
    "    for i in range(6):\n",
    "        if i ==0:\n",
    "            deep = Dense(272,activation='relu')(Flatten()(inp))\n",
    "        else:\n",
    "            deep = Dense(272,activation='relu')(deep)\n",
    "    cross = CrossLayer(output_dim = inp.shape[2],num_layer=8,name = \"cross_layer\")(inp)\n",
    "    \n",
    "    # concat both layers \n",
    "    output = concatenate([deep,cross],axis=-1)\n",
    "    output = Dense(y.shape[1],activation='sigmoid')(output)\n",
    "    model = Model(inp_layer,output)\n",
    "    print(model.summary())\n",
    "    model.compile(Adam(0.01),loss = 'binary_crossentropy',metrics = ['accuracy'])\n",
    "    model.fit([X[c] for c in X.columns],y,batch_size=256,epochs=10)\n",
    "    return model\n",
    "def evaluate(X,y,model):\n",
    "    y_pred = model.predict(X)\n",
    "    acc = np.sum(np.argmax(y_pred,1)==np.argamx(y,1))/y.shape[0]\n",
    "    print(\"Accuracy:\",acc)"
   ]
  },
  {
   "cell_type": "code",
   "execution_count": 205,
   "metadata": {},
   "outputs": [],
   "source": [
    "inp_layer,inp_embed = embedding_layers(fd)"
   ]
  },
  {
   "cell_type": "code",
   "execution_count": 206,
   "metadata": {},
   "outputs": [
    {
     "data": {
      "text/plain": [
       "{'ps_ind_02_cat': 5,\n",
       " 'ps_ind_04_cat': 3,\n",
       " 'ps_ind_05_cat': 8,\n",
       " 'ps_car_01_cat': 13,\n",
       " 'ps_car_02_cat': 2,\n",
       " 'ps_car_03_cat': 3,\n",
       " 'ps_car_04_cat': 10,\n",
       " 'ps_car_05_cat': 3,\n",
       " 'ps_car_06_cat': 18,\n",
       " 'ps_car_07_cat': 3,\n",
       " 'ps_car_08_cat': 2,\n",
       " 'ps_car_09_cat': 6,\n",
       " 'ps_car_10_cat': 3,\n",
       " 'ps_car_11_cat': 104}"
      ]
     },
     "execution_count": 206,
     "metadata": {},
     "output_type": "execute_result"
    }
   ],
   "source": [
    "fd.feat_cate_len"
   ]
  },
  {
   "cell_type": "code",
   "execution_count": 207,
   "metadata": {},
   "outputs": [
    {
     "data": {
      "text/plain": [
       "[<tf.Tensor 'ps_ind_02_cat_inp_4:0' shape=(None, 1) dtype=int64>,\n",
       " <tf.Tensor 'ps_ind_04_cat_inp_4:0' shape=(None, 1) dtype=int64>,\n",
       " <tf.Tensor 'ps_ind_05_cat_inp_4:0' shape=(None, 1) dtype=int64>,\n",
       " <tf.Tensor 'ps_car_01_cat_inp_5:0' shape=(None, 1) dtype=int64>,\n",
       " <tf.Tensor 'ps_car_02_cat_inp_4:0' shape=(None, 1) dtype=int64>,\n",
       " <tf.Tensor 'ps_car_03_cat_inp_4:0' shape=(None, 1) dtype=int64>,\n",
       " <tf.Tensor 'ps_car_04_cat_inp_4:0' shape=(None, 1) dtype=int64>,\n",
       " <tf.Tensor 'ps_car_05_cat_inp_4:0' shape=(None, 1) dtype=int64>,\n",
       " <tf.Tensor 'ps_car_06_cat_inp_4:0' shape=(None, 1) dtype=int64>,\n",
       " <tf.Tensor 'ps_car_07_cat_inp_4:0' shape=(None, 1) dtype=int64>,\n",
       " <tf.Tensor 'ps_car_08_cat_inp_4:0' shape=(None, 1) dtype=int64>,\n",
       " <tf.Tensor 'ps_car_09_cat_inp_4:0' shape=(None, 1) dtype=int64>,\n",
       " <tf.Tensor 'ps_car_10_cat_inp_4:0' shape=(None, 1) dtype=int64>,\n",
       " <tf.Tensor 'ps_car_11_cat_inp_4:0' shape=(None, 1) dtype=int64>,\n",
       " <tf.Tensor 'ps_reg_01_in_4:0' shape=(None, 1) dtype=float32>,\n",
       " <tf.Tensor 'ps_reg_02_in_4:0' shape=(None, 1) dtype=float32>,\n",
       " <tf.Tensor 'ps_reg_03_in_4:0' shape=(None, 1) dtype=float32>,\n",
       " <tf.Tensor 'ps_car_12_in_4:0' shape=(None, 1) dtype=float32>,\n",
       " <tf.Tensor 'ps_car_13_in_4:0' shape=(None, 1) dtype=float32>,\n",
       " <tf.Tensor 'ps_car_14_in_4:0' shape=(None, 1) dtype=float32>,\n",
       " <tf.Tensor 'ps_car_15_in_4:0' shape=(None, 1) dtype=float32>,\n",
       " <tf.Tensor 'missing_feat_in_4:0' shape=(None, 1) dtype=float32>,\n",
       " <tf.Tensor 'ps_car_13_x_ps_reg_03_in_4:0' shape=(None, 1) dtype=float32>]"
      ]
     },
     "execution_count": 207,
     "metadata": {},
     "output_type": "execute_result"
    }
   ],
   "source": [
    "inp_layer"
   ]
  },
  {
   "cell_type": "code",
   "execution_count": 208,
   "metadata": {},
   "outputs": [
    {
     "data": {
      "text/plain": [
       "Index(['ps_ind_02_cat', 'ps_ind_04_cat', 'ps_ind_05_cat', 'ps_car_01_cat',\n",
       "       'ps_car_02_cat', 'ps_car_03_cat', 'ps_car_04_cat', 'ps_car_05_cat',\n",
       "       'ps_car_06_cat', 'ps_car_07_cat', 'ps_car_08_cat', 'ps_car_09_cat',\n",
       "       'ps_car_10_cat', 'ps_car_11_cat', 'ps_reg_01', 'ps_reg_02', 'ps_reg_03',\n",
       "       'ps_car_12', 'ps_car_13', 'ps_car_14', 'ps_car_15', 'missing_feat',\n",
       "       'ps_car_13_x_ps_reg_03'],\n",
       "      dtype='object')"
      ]
     },
     "execution_count": 208,
     "metadata": {},
     "output_type": "execute_result"
    }
   ],
   "source": [
    "X_train.columns"
   ]
  },
  {
   "cell_type": "code",
   "execution_count": 209,
   "metadata": {
    "scrolled": false
   },
   "outputs": [
    {
     "name": "stdout",
     "output_type": "stream",
     "text": [
      "Model: \"model_14\"\n",
      "__________________________________________________________________________________________________\n",
      "Layer (type)                    Output Shape         Param #     Connected to                     \n",
      "==================================================================================================\n",
      "ps_ind_02_cat_inp (InputLayer)  (None, 1)            0                                            \n",
      "__________________________________________________________________________________________________\n",
      "ps_ind_04_cat_inp (InputLayer)  (None, 1)            0                                            \n",
      "__________________________________________________________________________________________________\n",
      "ps_ind_05_cat_inp (InputLayer)  (None, 1)            0                                            \n",
      "__________________________________________________________________________________________________\n",
      "ps_car_01_cat_inp (InputLayer)  (None, 1)            0                                            \n",
      "__________________________________________________________________________________________________\n",
      "ps_car_02_cat_inp (InputLayer)  (None, 1)            0                                            \n",
      "__________________________________________________________________________________________________\n",
      "ps_car_03_cat_inp (InputLayer)  (None, 1)            0                                            \n",
      "__________________________________________________________________________________________________\n",
      "ps_car_04_cat_inp (InputLayer)  (None, 1)            0                                            \n",
      "__________________________________________________________________________________________________\n",
      "ps_car_05_cat_inp (InputLayer)  (None, 1)            0                                            \n",
      "__________________________________________________________________________________________________\n",
      "ps_car_06_cat_inp (InputLayer)  (None, 1)            0                                            \n",
      "__________________________________________________________________________________________________\n",
      "ps_car_07_cat_inp (InputLayer)  (None, 1)            0                                            \n",
      "__________________________________________________________________________________________________\n",
      "ps_car_08_cat_inp (InputLayer)  (None, 1)            0                                            \n",
      "__________________________________________________________________________________________________\n",
      "ps_car_09_cat_inp (InputLayer)  (None, 1)            0                                            \n",
      "__________________________________________________________________________________________________\n",
      "ps_car_10_cat_inp (InputLayer)  (None, 1)            0                                            \n",
      "__________________________________________________________________________________________________\n",
      "ps_car_11_cat_inp (InputLayer)  (None, 1)            0                                            \n",
      "__________________________________________________________________________________________________\n",
      "ps_reg_01_in (InputLayer)       (None, 1)            0                                            \n",
      "__________________________________________________________________________________________________\n",
      "ps_reg_02_in (InputLayer)       (None, 1)            0                                            \n",
      "__________________________________________________________________________________________________\n",
      "ps_reg_03_in (InputLayer)       (None, 1)            0                                            \n",
      "__________________________________________________________________________________________________\n",
      "ps_car_12_in (InputLayer)       (None, 1)            0                                            \n",
      "__________________________________________________________________________________________________\n",
      "ps_car_13_in (InputLayer)       (None, 1)            0                                            \n",
      "__________________________________________________________________________________________________\n",
      "ps_car_14_in (InputLayer)       (None, 1)            0                                            \n",
      "__________________________________________________________________________________________________\n",
      "ps_car_15_in (InputLayer)       (None, 1)            0                                            \n",
      "__________________________________________________________________________________________________\n",
      "missing_feat_in (InputLayer)    (None, 1)            0                                            \n",
      "__________________________________________________________________________________________________\n",
      "ps_car_13_x_ps_reg_03_in (Input (None, 1)            0                                            \n",
      "__________________________________________________________________________________________________\n",
      "embedding_89 (Embedding)        (None, 1, 5)         25          ps_ind_02_cat_inp[0][0]          \n",
      "__________________________________________________________________________________________________\n",
      "embedding_90 (Embedding)        (None, 1, 3)         9           ps_ind_04_cat_inp[0][0]          \n",
      "__________________________________________________________________________________________________\n",
      "embedding_91 (Embedding)        (None, 1, 8)         64          ps_ind_05_cat_inp[0][0]          \n",
      "__________________________________________________________________________________________________\n",
      "embedding_92 (Embedding)        (None, 1, 11)        143         ps_car_01_cat_inp[0][0]          \n",
      "__________________________________________________________________________________________________\n",
      "embedding_93 (Embedding)        (None, 1, 2)         4           ps_car_02_cat_inp[0][0]          \n",
      "__________________________________________________________________________________________________\n",
      "embedding_94 (Embedding)        (None, 1, 3)         9           ps_car_03_cat_inp[0][0]          \n",
      "__________________________________________________________________________________________________\n",
      "embedding_95 (Embedding)        (None, 1, 10)        100         ps_car_04_cat_inp[0][0]          \n",
      "__________________________________________________________________________________________________\n",
      "embedding_96 (Embedding)        (None, 1, 3)         9           ps_car_05_cat_inp[0][0]          \n",
      "__________________________________________________________________________________________________\n",
      "embedding_97 (Embedding)        (None, 1, 12)        216         ps_car_06_cat_inp[0][0]          \n",
      "__________________________________________________________________________________________________\n",
      "embedding_98 (Embedding)        (None, 1, 3)         9           ps_car_07_cat_inp[0][0]          \n",
      "__________________________________________________________________________________________________\n",
      "embedding_99 (Embedding)        (None, 1, 2)         4           ps_car_08_cat_inp[0][0]          \n",
      "__________________________________________________________________________________________________\n",
      "embedding_100 (Embedding)       (None, 1, 6)         36          ps_car_09_cat_inp[0][0]          \n",
      "__________________________________________________________________________________________________\n",
      "embedding_101 (Embedding)       (None, 1, 3)         9           ps_car_10_cat_inp[0][0]          \n",
      "__________________________________________________________________________________________________\n",
      "embedding_102 (Embedding)       (None, 1, 19)        1976        ps_car_11_cat_inp[0][0]          \n",
      "__________________________________________________________________________________________________\n",
      "reshape_37 (Reshape)            (None, 1, 1)         0           ps_reg_01_in[0][0]               \n",
      "__________________________________________________________________________________________________\n",
      "reshape_38 (Reshape)            (None, 1, 1)         0           ps_reg_02_in[0][0]               \n",
      "__________________________________________________________________________________________________\n",
      "reshape_39 (Reshape)            (None, 1, 1)         0           ps_reg_03_in[0][0]               \n",
      "__________________________________________________________________________________________________\n",
      "reshape_40 (Reshape)            (None, 1, 1)         0           ps_car_12_in[0][0]               \n",
      "__________________________________________________________________________________________________\n",
      "reshape_41 (Reshape)            (None, 1, 1)         0           ps_car_13_in[0][0]               \n",
      "__________________________________________________________________________________________________\n",
      "reshape_42 (Reshape)            (None, 1, 1)         0           ps_car_14_in[0][0]               \n",
      "__________________________________________________________________________________________________\n",
      "reshape_43 (Reshape)            (None, 1, 1)         0           ps_car_15_in[0][0]               \n",
      "__________________________________________________________________________________________________\n",
      "reshape_44 (Reshape)            (None, 1, 1)         0           missing_feat_in[0][0]            \n",
      "__________________________________________________________________________________________________\n",
      "reshape_45 (Reshape)            (None, 1, 1)         0           ps_car_13_x_ps_reg_03_in[0][0]   \n",
      "__________________________________________________________________________________________________\n",
      "concatenate_36 (Concatenate)    (None, 1, 99)        0           embedding_89[0][0]               \n",
      "                                                                 embedding_90[0][0]               \n",
      "                                                                 embedding_91[0][0]               \n",
      "                                                                 embedding_92[0][0]               \n",
      "                                                                 embedding_93[0][0]               \n",
      "                                                                 embedding_94[0][0]               \n",
      "                                                                 embedding_95[0][0]               \n",
      "                                                                 embedding_96[0][0]               \n",
      "                                                                 embedding_97[0][0]               \n",
      "                                                                 embedding_98[0][0]               \n",
      "                                                                 embedding_99[0][0]               \n",
      "                                                                 embedding_100[0][0]              \n",
      "                                                                 embedding_101[0][0]              \n",
      "                                                                 embedding_102[0][0]              \n",
      "                                                                 reshape_37[0][0]                 \n",
      "                                                                 reshape_38[0][0]                 \n",
      "                                                                 reshape_39[0][0]                 \n",
      "                                                                 reshape_40[0][0]                 \n",
      "                                                                 reshape_41[0][0]                 \n",
      "                                                                 reshape_42[0][0]                 \n",
      "                                                                 reshape_43[0][0]                 \n",
      "                                                                 reshape_44[0][0]                 \n",
      "                                                                 reshape_45[0][0]                 \n",
      "__________________________________________________________________________________________________\n",
      "flatten_35 (Flatten)            (None, 99)           0           concatenate_36[0][0]             \n",
      "__________________________________________________________________________________________________\n",
      "dense_119 (Dense)               (None, 272)          27200       flatten_35[0][0]                 \n",
      "__________________________________________________________________________________________________\n",
      "dense_120 (Dense)               (None, 272)          74256       dense_119[0][0]                  \n",
      "__________________________________________________________________________________________________\n",
      "dense_121 (Dense)               (None, 272)          74256       dense_120[0][0]                  \n",
      "__________________________________________________________________________________________________\n",
      "dense_122 (Dense)               (None, 272)          74256       dense_121[0][0]                  \n",
      "__________________________________________________________________________________________________\n",
      "dense_123 (Dense)               (None, 272)          74256       dense_122[0][0]                  \n",
      "__________________________________________________________________________________________________\n",
      "dense_124 (Dense)               (None, 272)          74256       dense_123[0][0]                  \n",
      "__________________________________________________________________________________________________\n",
      "cross_layer (CrossLayer)        (None, 99)           1584        concatenate_36[0][0]             \n",
      "__________________________________________________________________________________________________\n",
      "concatenate_37 (Concatenate)    (None, 371)          0           dense_124[0][0]                  \n",
      "                                                                 cross_layer[0][0]                \n",
      "__________________________________________________________________________________________________\n",
      "dense_125 (Dense)               (None, 2)            744         concatenate_37[0][0]             \n",
      "==================================================================================================\n",
      "Total params: 403,421\n",
      "Trainable params: 403,421\n",
      "Non-trainable params: 0\n",
      "__________________________________________________________________________________________________\n",
      "None\n"
     ]
    },
    {
     "name": "stderr",
     "output_type": "stream",
     "text": [
      "C:\\Users\\qiu\\AppData\\Roaming\\Python\\Python36\\site-packages\\tensorflow_core\\python\\framework\\indexed_slices.py:424: UserWarning: Converting sparse IndexedSlices to a dense Tensor of unknown shape. This may consume a large amount of memory.\n",
      "  \"Converting sparse IndexedSlices to a dense Tensor of unknown shape. \"\n"
     ]
    },
    {
     "name": "stdout",
     "output_type": "stream",
     "text": [
      "Epoch 1/10\n",
      "10000/10000 [==============================] - 11s 1ms/step - loss: 0.2122 - accuracy: 0.9435\n",
      "Epoch 2/10\n",
      "10000/10000 [==============================] - 9s 851us/step - loss: 0.1568 - accuracy: 0.9621\n",
      "Epoch 3/10\n",
      "10000/10000 [==============================] - 9s 862us/step - loss: 0.1534 - accuracy: 0.9620\n",
      "Epoch 4/10\n",
      "10000/10000 [==============================] - 8s 844us/step - loss: 0.1529 - accuracy: 0.96213s\n",
      "Epoch 5/10\n",
      "10000/10000 [==============================] - 8s 845us/step - loss: 0.1507 - accuracy: 0.9621\n",
      "Epoch 6/10\n",
      "10000/10000 [==============================] - 8s 848us/step - loss: 0.1493 - accuracy: 0.9621\n",
      "Epoch 7/10\n",
      "10000/10000 [==============================] - 9s 852us/step - loss: 0.1465 - accuracy: 0.9623\n",
      "Epoch 8/10\n",
      "10000/10000 [==============================] - 9s 861us/step - loss: 0.1484 - accuracy: 0.9615\n",
      "Epoch 9/10\n",
      "10000/10000 [==============================] - 9s 854us/step - loss: 0.1506 - accuracy: 0.9624\n",
      "Epoch 10/10\n",
      "10000/10000 [==============================] - 9s 854us/step - loss: 0.1470 - accuracy: 0.9622\n"
     ]
    }
   ],
   "source": [
    "model = fit(inp_layer,inp_embed,X_train,y_train)"
   ]
  },
  {
   "cell_type": "code",
   "execution_count": null,
   "metadata": {},
   "outputs": [],
   "source": []
  }
 ],
 "metadata": {
  "kernelspec": {
   "display_name": "Python 3",
   "language": "python",
   "name": "python3"
  },
  "language_info": {
   "codemirror_mode": {
    "name": "ipython",
    "version": 3
   },
   "file_extension": ".py",
   "mimetype": "text/x-python",
   "name": "python",
   "nbconvert_exporter": "python",
   "pygments_lexer": "ipython3",
   "version": "3.6.5"
  }
 },
 "nbformat": 4,
 "nbformat_minor": 2
}
