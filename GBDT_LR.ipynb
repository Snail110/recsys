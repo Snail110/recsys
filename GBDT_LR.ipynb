{
 "cells": [
  {
   "cell_type": "markdown",
   "metadata": {
    "collapsed": true
   },
   "source": [
    "## GBDT+LR代码分析"
   ]
  },
  {
   "cell_type": "code",
   "execution_count": null,
   "metadata": {},
   "outputs": [],
   "source": [
    "# Scikit-learn实现"
   ]
  },
  {
   "cell_type": "code",
   "execution_count": 1,
   "metadata": {},
   "outputs": [],
   "source": [
    "import lightgbm as lgb\n",
    "import numpy as np\n",
    "import pandas as pd\n",
    "from sklearn.metrics import mean_squared_error\n",
    "from sklearn.linear_model import LogisticRegression"
   ]
  },
  {
   "cell_type": "code",
   "execution_count": 10,
   "metadata": {},
   "outputs": [],
   "source": [
    "from sklearn.preprocessing import OneHotEncoder\n",
    "from sklearn.ensemble import GradientBoostingClassifier"
   ]
  },
  {
   "cell_type": "code",
   "execution_count": 2,
   "metadata": {},
   "outputs": [],
   "source": [
    "df_train = pd.read_csv(r'F:\\Data\\recsys-data\\gbdt+lr/train.csv')\n",
    "df_test = pd.read_csv(r'F:\\Data\\recsys-data\\gbdt+lr/test.csv')"
   ]
  },
  {
   "cell_type": "code",
   "execution_count": 3,
   "metadata": {},
   "outputs": [],
   "source": [
    "NUMERIC_COLS = [\n",
    "    \"ps_reg_01\", \"ps_reg_02\", \"ps_reg_03\",\n",
    "    \"ps_car_12\", \"ps_car_13\", \"ps_car_14\", \"ps_car_15\",\n",
    "]"
   ]
  },
  {
   "cell_type": "code",
   "execution_count": 11,
   "metadata": {},
   "outputs": [],
   "source": [
    "gbdt = GradientBoostingClassifier(n_estimators=50,random_state=10,subsample = 0.6,max_depth=7,min_samples_split=900)"
   ]
  },
  {
   "cell_type": "code",
   "execution_count": 4,
   "metadata": {},
   "outputs": [
    {
     "data": {
      "text/html": [
       "<div>\n",
       "<style scoped>\n",
       "    .dataframe tbody tr th:only-of-type {\n",
       "        vertical-align: middle;\n",
       "    }\n",
       "\n",
       "    .dataframe tbody tr th {\n",
       "        vertical-align: top;\n",
       "    }\n",
       "\n",
       "    .dataframe thead th {\n",
       "        text-align: right;\n",
       "    }\n",
       "</style>\n",
       "<table border=\"1\" class=\"dataframe\">\n",
       "  <thead>\n",
       "    <tr style=\"text-align: right;\">\n",
       "      <th></th>\n",
       "      <th>Unnamed: 0</th>\n",
       "      <th>id</th>\n",
       "      <th>target</th>\n",
       "      <th>ps_ind_01</th>\n",
       "      <th>ps_ind_02_cat</th>\n",
       "      <th>ps_ind_03</th>\n",
       "      <th>ps_ind_04_cat</th>\n",
       "      <th>ps_ind_05_cat</th>\n",
       "      <th>ps_ind_06_bin</th>\n",
       "      <th>ps_ind_07_bin</th>\n",
       "      <th>...</th>\n",
       "      <th>ps_calc_11</th>\n",
       "      <th>ps_calc_12</th>\n",
       "      <th>ps_calc_13</th>\n",
       "      <th>ps_calc_14</th>\n",
       "      <th>ps_calc_15_bin</th>\n",
       "      <th>ps_calc_16_bin</th>\n",
       "      <th>ps_calc_17_bin</th>\n",
       "      <th>ps_calc_18_bin</th>\n",
       "      <th>ps_calc_19_bin</th>\n",
       "      <th>ps_calc_20_bin</th>\n",
       "    </tr>\n",
       "  </thead>\n",
       "  <tbody>\n",
       "    <tr>\n",
       "      <th>0</th>\n",
       "      <td>8000</td>\n",
       "      <td>20227</td>\n",
       "      <td>1</td>\n",
       "      <td>7</td>\n",
       "      <td>1</td>\n",
       "      <td>5</td>\n",
       "      <td>1</td>\n",
       "      <td>0</td>\n",
       "      <td>0</td>\n",
       "      <td>1</td>\n",
       "      <td>...</td>\n",
       "      <td>4</td>\n",
       "      <td>2</td>\n",
       "      <td>6</td>\n",
       "      <td>5</td>\n",
       "      <td>0</td>\n",
       "      <td>0</td>\n",
       "      <td>1</td>\n",
       "      <td>1</td>\n",
       "      <td>1</td>\n",
       "      <td>0</td>\n",
       "    </tr>\n",
       "    <tr>\n",
       "      <th>1</th>\n",
       "      <td>8001</td>\n",
       "      <td>20228</td>\n",
       "      <td>1</td>\n",
       "      <td>0</td>\n",
       "      <td>1</td>\n",
       "      <td>6</td>\n",
       "      <td>1</td>\n",
       "      <td>0</td>\n",
       "      <td>1</td>\n",
       "      <td>0</td>\n",
       "      <td>...</td>\n",
       "      <td>5</td>\n",
       "      <td>2</td>\n",
       "      <td>4</td>\n",
       "      <td>10</td>\n",
       "      <td>0</td>\n",
       "      <td>0</td>\n",
       "      <td>0</td>\n",
       "      <td>0</td>\n",
       "      <td>0</td>\n",
       "      <td>1</td>\n",
       "    </tr>\n",
       "    <tr>\n",
       "      <th>2</th>\n",
       "      <td>8002</td>\n",
       "      <td>20229</td>\n",
       "      <td>0</td>\n",
       "      <td>3</td>\n",
       "      <td>1</td>\n",
       "      <td>8</td>\n",
       "      <td>0</td>\n",
       "      <td>0</td>\n",
       "      <td>0</td>\n",
       "      <td>0</td>\n",
       "      <td>...</td>\n",
       "      <td>10</td>\n",
       "      <td>1</td>\n",
       "      <td>3</td>\n",
       "      <td>5</td>\n",
       "      <td>0</td>\n",
       "      <td>0</td>\n",
       "      <td>1</td>\n",
       "      <td>1</td>\n",
       "      <td>1</td>\n",
       "      <td>0</td>\n",
       "    </tr>\n",
       "    <tr>\n",
       "      <th>3</th>\n",
       "      <td>8003</td>\n",
       "      <td>20235</td>\n",
       "      <td>0</td>\n",
       "      <td>2</td>\n",
       "      <td>1</td>\n",
       "      <td>8</td>\n",
       "      <td>0</td>\n",
       "      <td>0</td>\n",
       "      <td>0</td>\n",
       "      <td>0</td>\n",
       "      <td>...</td>\n",
       "      <td>2</td>\n",
       "      <td>2</td>\n",
       "      <td>2</td>\n",
       "      <td>9</td>\n",
       "      <td>0</td>\n",
       "      <td>0</td>\n",
       "      <td>0</td>\n",
       "      <td>1</td>\n",
       "      <td>1</td>\n",
       "      <td>0</td>\n",
       "    </tr>\n",
       "    <tr>\n",
       "      <th>4</th>\n",
       "      <td>8004</td>\n",
       "      <td>20236</td>\n",
       "      <td>0</td>\n",
       "      <td>0</td>\n",
       "      <td>1</td>\n",
       "      <td>2</td>\n",
       "      <td>1</td>\n",
       "      <td>0</td>\n",
       "      <td>0</td>\n",
       "      <td>0</td>\n",
       "      <td>...</td>\n",
       "      <td>3</td>\n",
       "      <td>2</td>\n",
       "      <td>5</td>\n",
       "      <td>5</td>\n",
       "      <td>0</td>\n",
       "      <td>0</td>\n",
       "      <td>1</td>\n",
       "      <td>0</td>\n",
       "      <td>1</td>\n",
       "      <td>0</td>\n",
       "    </tr>\n",
       "  </tbody>\n",
       "</table>\n",
       "<p>5 rows × 60 columns</p>\n",
       "</div>"
      ],
      "text/plain": [
       "   Unnamed: 0     id  target  ps_ind_01  ps_ind_02_cat  ps_ind_03  \\\n",
       "0        8000  20227       1          7              1          5   \n",
       "1        8001  20228       1          0              1          6   \n",
       "2        8002  20229       0          3              1          8   \n",
       "3        8003  20235       0          2              1          8   \n",
       "4        8004  20236       0          0              1          2   \n",
       "\n",
       "   ps_ind_04_cat  ps_ind_05_cat  ps_ind_06_bin  ps_ind_07_bin       ...        \\\n",
       "0              1              0              0              1       ...         \n",
       "1              1              0              1              0       ...         \n",
       "2              0              0              0              0       ...         \n",
       "3              0              0              0              0       ...         \n",
       "4              1              0              0              0       ...         \n",
       "\n",
       "   ps_calc_11  ps_calc_12  ps_calc_13  ps_calc_14  ps_calc_15_bin  \\\n",
       "0           4           2           6           5               0   \n",
       "1           5           2           4          10               0   \n",
       "2          10           1           3           5               0   \n",
       "3           2           2           2           9               0   \n",
       "4           3           2           5           5               0   \n",
       "\n",
       "   ps_calc_16_bin  ps_calc_17_bin  ps_calc_18_bin  ps_calc_19_bin  \\\n",
       "0               0               1               1               1   \n",
       "1               0               0               0               0   \n",
       "2               0               1               1               1   \n",
       "3               0               0               1               1   \n",
       "4               0               1               0               1   \n",
       "\n",
       "   ps_calc_20_bin  \n",
       "0               0  \n",
       "1               1  \n",
       "2               0  \n",
       "3               0  \n",
       "4               0  \n",
       "\n",
       "[5 rows x 60 columns]"
      ]
     },
     "execution_count": 4,
     "metadata": {},
     "output_type": "execute_result"
    }
   ],
   "source": [
    "df_test.head()"
   ]
  },
  {
   "cell_type": "code",
   "execution_count": 100,
   "metadata": {},
   "outputs": [],
   "source": [
    "y_train = df_train['target']\n",
    "y_test = df_test['target']\n",
    "X_train = df_train[NUMERIC_COLS]\n",
    "X_test = df_test[NUMERIC_COLS]"
   ]
  },
  {
   "cell_type": "code",
   "execution_count": 6,
   "metadata": {},
   "outputs": [
    {
     "data": {
      "text/plain": [
       "(8001, 7)"
      ]
     },
     "execution_count": 6,
     "metadata": {},
     "output_type": "execute_result"
    }
   ],
   "source": [
    "X_train.shape"
   ]
  },
  {
   "cell_type": "code",
   "execution_count": 23,
   "metadata": {},
   "outputs": [],
   "source": [
    "lgb_train = lgb.Dataset(X_train,y_train)\n",
    "lgb_eval = lgb.Dataset(X_test,y_test,reference=lgb_train)"
   ]
  },
  {
   "cell_type": "markdown",
   "metadata": {},
   "source": [
    "## 设置子树为100颗，每颗树包含64支叶子的树模型。那么形成的中间特征向量为100*64"
   ]
  },
  {
   "cell_type": "code",
   "execution_count": 24,
   "metadata": {},
   "outputs": [],
   "source": [
    "params = {\n",
    "    'task': 'train',\n",
    "    'boosting_type': 'gbdt',\n",
    "    'objective': 'binary',\n",
    "    'metric': {'binary_logloss'},\n",
    "    'num_leaves': 64,\n",
    "    'num_trees': 100,\n",
    "    'learning_rate': 0.01,\n",
    "    'feature_fraction': 0.9,\n",
    "    'bagging_fraction': 0.8,\n",
    "    'bagging_freq': 5,\n",
    "    'verbose': 0\n",
    "}"
   ]
  },
  {
   "cell_type": "code",
   "execution_count": 25,
   "metadata": {},
   "outputs": [],
   "source": [
    "#  叶子节点数，用来进行特征转换使用\n",
    "num_leaf = 64"
   ]
  },
  {
   "cell_type": "code",
   "execution_count": 26,
   "metadata": {
    "scrolled": true
   },
   "outputs": [
    {
     "name": "stderr",
     "output_type": "stream",
     "text": [
      "D:\\anaconda3\\julianxu\\lib\\site-packages\\lightgbm\\engine.py:148: UserWarning: Found `num_trees` in params. Will use it instead of argument\n",
      "  warnings.warn(\"Found `{}` in params. Will use it instead of argument\".format(alias))\n"
     ]
    },
    {
     "name": "stdout",
     "output_type": "stream",
     "text": [
      "[1]\ttraining's binary_logloss: 0.155602\n",
      "[2]\ttraining's binary_logloss: 0.155022\n",
      "[3]\ttraining's binary_logloss: 0.15441\n",
      "[4]\ttraining's binary_logloss: 0.153819\n",
      "[5]\ttraining's binary_logloss: 0.153267\n",
      "[6]\ttraining's binary_logloss: 0.152685\n",
      "[7]\ttraining's binary_logloss: 0.152144\n",
      "[8]\ttraining's binary_logloss: 0.151545\n",
      "[9]\ttraining's binary_logloss: 0.151029\n",
      "[10]\ttraining's binary_logloss: 0.15049\n",
      "[11]\ttraining's binary_logloss: 0.150069\n",
      "[12]\ttraining's binary_logloss: 0.149553\n",
      "[13]\ttraining's binary_logloss: 0.149064\n",
      "[14]\ttraining's binary_logloss: 0.148592\n",
      "[15]\ttraining's binary_logloss: 0.148111\n",
      "[16]\ttraining's binary_logloss: 0.147618\n",
      "[17]\ttraining's binary_logloss: 0.147086\n",
      "[18]\ttraining's binary_logloss: 0.146624\n",
      "[19]\ttraining's binary_logloss: 0.146184\n",
      "[20]\ttraining's binary_logloss: 0.145696\n",
      "[21]\ttraining's binary_logloss: 0.145182\n",
      "[22]\ttraining's binary_logloss: 0.144704\n",
      "[23]\ttraining's binary_logloss: 0.144244\n",
      "[24]\ttraining's binary_logloss: 0.143804\n",
      "[25]\ttraining's binary_logloss: 0.14335\n",
      "[26]\ttraining's binary_logloss: 0.142893\n",
      "[27]\ttraining's binary_logloss: 0.142461\n",
      "[28]\ttraining's binary_logloss: 0.141992\n",
      "[29]\ttraining's binary_logloss: 0.14154\n",
      "[30]\ttraining's binary_logloss: 0.141097\n",
      "[31]\ttraining's binary_logloss: 0.14065\n",
      "[32]\ttraining's binary_logloss: 0.14021\n",
      "[33]\ttraining's binary_logloss: 0.139826\n",
      "[34]\ttraining's binary_logloss: 0.139455\n",
      "[35]\ttraining's binary_logloss: 0.139101\n",
      "[36]\ttraining's binary_logloss: 0.138699\n",
      "[37]\ttraining's binary_logloss: 0.138313\n",
      "[38]\ttraining's binary_logloss: 0.137922\n",
      "[39]\ttraining's binary_logloss: 0.13748\n",
      "[40]\ttraining's binary_logloss: 0.13711\n",
      "[41]\ttraining's binary_logloss: 0.136669\n",
      "[42]\ttraining's binary_logloss: 0.136245\n",
      "[43]\ttraining's binary_logloss: 0.135825\n",
      "[44]\ttraining's binary_logloss: 0.135446\n",
      "[45]\ttraining's binary_logloss: 0.135044\n",
      "[46]\ttraining's binary_logloss: 0.134611\n",
      "[47]\ttraining's binary_logloss: 0.134199\n",
      "[48]\ttraining's binary_logloss: 0.133789\n",
      "[49]\ttraining's binary_logloss: 0.133391\n",
      "[50]\ttraining's binary_logloss: 0.133004\n",
      "[51]\ttraining's binary_logloss: 0.132586\n",
      "[52]\ttraining's binary_logloss: 0.132205\n",
      "[53]\ttraining's binary_logloss: 0.131787\n",
      "[54]\ttraining's binary_logloss: 0.131378\n",
      "[55]\ttraining's binary_logloss: 0.131014\n",
      "[56]\ttraining's binary_logloss: 0.130628\n",
      "[57]\ttraining's binary_logloss: 0.130253\n",
      "[58]\ttraining's binary_logloss: 0.129902\n",
      "[59]\ttraining's binary_logloss: 0.12956\n",
      "[60]\ttraining's binary_logloss: 0.129185\n",
      "[61]\ttraining's binary_logloss: 0.128838\n",
      "[62]\ttraining's binary_logloss: 0.128492\n",
      "[63]\ttraining's binary_logloss: 0.128169\n",
      "[64]\ttraining's binary_logloss: 0.127838\n",
      "[65]\ttraining's binary_logloss: 0.12748\n",
      "[66]\ttraining's binary_logloss: 0.127149\n",
      "[67]\ttraining's binary_logloss: 0.126845\n",
      "[68]\ttraining's binary_logloss: 0.126493\n",
      "[69]\ttraining's binary_logloss: 0.126139\n",
      "[70]\ttraining's binary_logloss: 0.125797\n",
      "[71]\ttraining's binary_logloss: 0.125492\n",
      "[72]\ttraining's binary_logloss: 0.125175\n",
      "[73]\ttraining's binary_logloss: 0.12489\n",
      "[74]\ttraining's binary_logloss: 0.124602\n",
      "[75]\ttraining's binary_logloss: 0.124281\n",
      "[76]\ttraining's binary_logloss: 0.123981\n",
      "[77]\ttraining's binary_logloss: 0.123696\n",
      "[78]\ttraining's binary_logloss: 0.123414\n",
      "[79]\ttraining's binary_logloss: 0.123113\n",
      "[80]\ttraining's binary_logloss: 0.122799\n",
      "[81]\ttraining's binary_logloss: 0.122486\n",
      "[82]\ttraining's binary_logloss: 0.122147\n",
      "[83]\ttraining's binary_logloss: 0.121818\n",
      "[84]\ttraining's binary_logloss: 0.121483\n",
      "[85]\ttraining's binary_logloss: 0.12115\n",
      "[86]\ttraining's binary_logloss: 0.120842\n",
      "[87]\ttraining's binary_logloss: 0.120546\n",
      "[88]\ttraining's binary_logloss: 0.12025\n",
      "[89]\ttraining's binary_logloss: 0.119959\n",
      "[90]\ttraining's binary_logloss: 0.119682\n",
      "[91]\ttraining's binary_logloss: 0.11935\n",
      "[92]\ttraining's binary_logloss: 0.119037\n",
      "[93]\ttraining's binary_logloss: 0.118712\n",
      "[94]\ttraining's binary_logloss: 0.118397\n",
      "[95]\ttraining's binary_logloss: 0.118085\n",
      "[96]\ttraining's binary_logloss: 0.117773\n",
      "[97]\ttraining's binary_logloss: 0.117491\n",
      "[98]\ttraining's binary_logloss: 0.117192\n",
      "[99]\ttraining's binary_logloss: 0.116892\n",
      "[100]\ttraining's binary_logloss: 0.116629\n"
     ]
    }
   ],
   "source": [
    "# train\n",
    "gbm = lgb.train(params,\n",
    "                lgb_train,\n",
    "                num_boost_round=100,\n",
    "                valid_sets=lgb_train)"
   ]
  },
  {
   "cell_type": "code",
   "execution_count": 27,
   "metadata": {},
   "outputs": [
    {
     "name": "stdout",
     "output_type": "stream",
     "text": [
      "Save model...\n"
     ]
    },
    {
     "data": {
      "text/plain": [
       "<lightgbm.basic.Booster at 0x13099093d68>"
      ]
     },
     "execution_count": 27,
     "metadata": {},
     "output_type": "execute_result"
    }
   ],
   "source": [
    "print('Save model...')\n",
    "# save model to file\n",
    "gbm.save_model(r'F:\\Data\\recsys-data\\gbdt+lr/model.txt')"
   ]
  },
  {
   "cell_type": "code",
   "execution_count": 54,
   "metadata": {},
   "outputs": [
    {
     "name": "stdout",
     "output_type": "stream",
     "text": [
      "Start predicting...\n"
     ]
    }
   ],
   "source": [
    "print('Start predicting...')\n",
    "# predict and get data on leaves, training data\n",
    "y_pred = gbm.predict(X_train, pred_leaf=True)"
   ]
  },
  {
   "cell_type": "code",
   "execution_count": 56,
   "metadata": {},
   "outputs": [
    {
     "data": {
      "text/plain": [
       "(8001, 7)"
      ]
     },
     "execution_count": 56,
     "metadata": {},
     "output_type": "execute_result"
    }
   ],
   "source": [
    "X_train.shape"
   ]
  },
  {
   "cell_type": "code",
   "execution_count": 55,
   "metadata": {},
   "outputs": [
    {
     "data": {
      "text/plain": [
       "array([[17,  0, 55, ...,  4, 63, 63],\n",
       "       [62,  8, 58, ..., 47,  9, 57],\n",
       "       [44,  0, 58, ..., 34, 62, 45],\n",
       "       ...,\n",
       "       [51, 19, 16, ..., 23, 33, 56],\n",
       "       [61, 28, 58, ..., 53, 28, 18],\n",
       "       [53, 29, 54, ...,  4, 63, 63]])"
      ]
     },
     "execution_count": 55,
     "metadata": {},
     "output_type": "execute_result"
    }
   ],
   "source": [
    "y_pred"
   ]
  },
  {
   "cell_type": "code",
   "execution_count": 29,
   "metadata": {},
   "outputs": [
    {
     "data": {
      "text/plain": [
       "(8001, 100)"
      ]
     },
     "execution_count": 29,
     "metadata": {},
     "output_type": "execute_result"
    }
   ],
   "source": [
    "np.array(y_pred).shape"
   ]
  },
  {
   "cell_type": "code",
   "execution_count": 32,
   "metadata": {},
   "outputs": [
    {
     "data": {
      "text/plain": [
       "array([17,  0, 55, 44, 47,  8,  8, 39,  8,  8,  0,  0,  0,  0,  0,  0, 38,\n",
       "       36, 36, 26, 15, 13, 38, 18, 41, 54, 45, 51, 55, 59, 15, 20,  2,  2,\n",
       "        2, 63, 56, 26,  7, 25, 46, 58, 62, 26, 19, 48,  6, 51,  5, 45, 44,\n",
       "        1, 44, 14, 33, 41, 10, 39, 49, 63, 51, 63, 20, 48, 52, 47,  8, 36,\n",
       "        8,  8, 50,  0, 32, 21,  8, 23, 48, 48, 17, 49, 46, 10, 28, 12, 59,\n",
       "       22, 12, 51, 34, 32, 15, 15, 53, 29, 29, 59, 59,  4, 63, 63])"
      ]
     },
     "execution_count": 32,
     "metadata": {},
     "output_type": "execute_result"
    }
   ],
   "source": [
    "y_pred[0]\n",
    "# 17,0每个数字代表每颗树的叶子节点索引"
   ]
  },
  {
   "cell_type": "code",
   "execution_count": 36,
   "metadata": {},
   "outputs": [],
   "source": [
    "transform_training_matrix = np.zeros([len(y_pred),len(y_pred[0])*num_leaf],dtype=np.int64) # N**num_tress*num_leaf"
   ]
  },
  {
   "cell_type": "code",
   "execution_count": 47,
   "metadata": {},
   "outputs": [],
   "source": [
    "for i in range(0,len(y_pred)):\n",
    "    temp = np.arange(len(y_pred[0]))*num_leaf + np.array(y_pred[i]) #  以64为一个周期，然后加上相应的节点位置\n",
    "    transform_training_matrix[i][temp] += 1 # 找出索引对应的值，然后加1"
   ]
  },
  {
   "cell_type": "code",
   "execution_count": 83,
   "metadata": {},
   "outputs": [
    {
     "data": {
      "text/plain": [
       "(8001, 6400)"
      ]
     },
     "execution_count": 83,
     "metadata": {},
     "output_type": "execute_result"
    }
   ],
   "source": [
    "transform_training_matrix.shape"
   ]
  },
  {
   "cell_type": "code",
   "execution_count": 95,
   "metadata": {},
   "outputs": [],
   "source": [
    "y_test_lgb = gbm.predict(X_test,pred_leaf=True)"
   ]
  },
  {
   "cell_type": "code",
   "execution_count": 65,
   "metadata": {},
   "outputs": [],
   "source": [
    "# 将预测集进行onehot转换"
   ]
  },
  {
   "cell_type": "code",
   "execution_count": 86,
   "metadata": {},
   "outputs": [
    {
     "data": {
      "text/plain": [
       "2000"
      ]
     },
     "execution_count": 86,
     "metadata": {},
     "output_type": "execute_result"
    }
   ],
   "source": [
    "len(y_test)"
   ]
  },
  {
   "cell_type": "code",
   "execution_count": 96,
   "metadata": {},
   "outputs": [],
   "source": [
    "transform_test_matrix = np.zeros([len(y_test_lgb),len(y_test_lgb[0])*num_leaf],dtype=np.int64)"
   ]
  },
  {
   "cell_type": "code",
   "execution_count": 88,
   "metadata": {},
   "outputs": [
    {
     "data": {
      "text/plain": [
       "(2000, 6400)"
      ]
     },
     "execution_count": 88,
     "metadata": {},
     "output_type": "execute_result"
    }
   ],
   "source": [
    "transform_test_matrix.shape"
   ]
  },
  {
   "cell_type": "code",
   "execution_count": 97,
   "metadata": {},
   "outputs": [],
   "source": [
    "for i in range(len(y_test_lgb)):\n",
    "    temp = np.arange(len(y_test[0]))*num_leaf + np.array(y_test_lgb[i])\n",
    "    transform_test_matrix[i][temp] += 1"
   ]
  },
  {
   "cell_type": "code",
   "execution_count": 98,
   "metadata": {},
   "outputs": [],
   "source": [
    "lm = LogisticRegression(penalty='l2',C=0.05)\n",
    "lm.fit(transform_training_matrix,y_train)\n",
    "y_pred_test = lm.predict_proba(transform_test_matrix)"
   ]
  },
  {
   "cell_type": "code",
   "execution_count": 99,
   "metadata": {},
   "outputs": [
    {
     "data": {
      "text/plain": [
       "(2000, 2)"
      ]
     },
     "execution_count": 99,
     "metadata": {},
     "output_type": "execute_result"
    }
   ],
   "source": [
    "y_pred_test.shape"
   ]
  },
  {
   "cell_type": "code",
   "execution_count": 101,
   "metadata": {},
   "outputs": [
    {
     "name": "stdout",
     "output_type": "stream",
     "text": [
      "Normalized Cross Entropy 2.213280152050503\n"
     ]
    }
   ],
   "source": [
    "NE = (-1) / len(y_pred_test) * sum(((1+y_test)/2 * np.log(y_pred_test[:,1]) +  (1-y_test)/2 * np.log(1 - y_pred_test[:,1])))\n",
    "print(\"Normalized Cross Entropy \" + str(NE))"
   ]
  },
  {
   "cell_type": "code",
   "execution_count": null,
   "metadata": {},
   "outputs": [],
   "source": []
  }
 ],
 "metadata": {
  "kernelspec": {
   "display_name": "Python 3",
   "language": "python",
   "name": "python3"
  },
  "language_info": {
   "codemirror_mode": {
    "name": "ipython",
    "version": 3
   },
   "file_extension": ".py",
   "mimetype": "text/x-python",
   "name": "python",
   "nbconvert_exporter": "python",
   "pygments_lexer": "ipython3",
   "version": "3.6.5"
  }
 },
 "nbformat": 4,
 "nbformat_minor": 1
}
