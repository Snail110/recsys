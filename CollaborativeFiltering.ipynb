{
 "cells": [
  {
   "cell_type": "code",
   "execution_count": 1,
   "metadata": {},
   "outputs": [],
   "source": [
    "import pandas as pd"
   ]
  },
  {
   "cell_type": "code",
   "execution_count": 2,
   "metadata": {},
   "outputs": [],
   "source": [
    "movies = pd.read_csv(r\"F:\\baidudownload\\ml-20m\\ml-20m\\movies.csv\")"
   ]
  },
  {
   "cell_type": "code",
   "execution_count": 4,
   "metadata": {},
   "outputs": [],
   "source": [
    "ratings = pd.read_csv(r'F:\\baidudownload\\ml-20m\\ml-20m\\ratings.csv')"
   ]
  },
  {
   "cell_type": "code",
   "execution_count": 5,
   "metadata": {},
   "outputs": [
    {
     "data": {
      "text/html": [
       "<div>\n",
       "<style scoped>\n",
       "    .dataframe tbody tr th:only-of-type {\n",
       "        vertical-align: middle;\n",
       "    }\n",
       "\n",
       "    .dataframe tbody tr th {\n",
       "        vertical-align: top;\n",
       "    }\n",
       "\n",
       "    .dataframe thead th {\n",
       "        text-align: right;\n",
       "    }\n",
       "</style>\n",
       "<table border=\"1\" class=\"dataframe\">\n",
       "  <thead>\n",
       "    <tr style=\"text-align: right;\">\n",
       "      <th></th>\n",
       "      <th>movieId</th>\n",
       "      <th>title</th>\n",
       "      <th>genres</th>\n",
       "    </tr>\n",
       "  </thead>\n",
       "  <tbody>\n",
       "    <tr>\n",
       "      <th>0</th>\n",
       "      <td>1</td>\n",
       "      <td>Toy Story (1995)</td>\n",
       "      <td>Adventure|Animation|Children|Comedy|Fantasy</td>\n",
       "    </tr>\n",
       "    <tr>\n",
       "      <th>1</th>\n",
       "      <td>2</td>\n",
       "      <td>Jumanji (1995)</td>\n",
       "      <td>Adventure|Children|Fantasy</td>\n",
       "    </tr>\n",
       "    <tr>\n",
       "      <th>2</th>\n",
       "      <td>3</td>\n",
       "      <td>Grumpier Old Men (1995)</td>\n",
       "      <td>Comedy|Romance</td>\n",
       "    </tr>\n",
       "    <tr>\n",
       "      <th>3</th>\n",
       "      <td>4</td>\n",
       "      <td>Waiting to Exhale (1995)</td>\n",
       "      <td>Comedy|Drama|Romance</td>\n",
       "    </tr>\n",
       "    <tr>\n",
       "      <th>4</th>\n",
       "      <td>5</td>\n",
       "      <td>Father of the Bride Part II (1995)</td>\n",
       "      <td>Comedy</td>\n",
       "    </tr>\n",
       "  </tbody>\n",
       "</table>\n",
       "</div>"
      ],
      "text/plain": [
       "   movieId                               title  \\\n",
       "0        1                    Toy Story (1995)   \n",
       "1        2                      Jumanji (1995)   \n",
       "2        3             Grumpier Old Men (1995)   \n",
       "3        4            Waiting to Exhale (1995)   \n",
       "4        5  Father of the Bride Part II (1995)   \n",
       "\n",
       "                                        genres  \n",
       "0  Adventure|Animation|Children|Comedy|Fantasy  \n",
       "1                   Adventure|Children|Fantasy  \n",
       "2                               Comedy|Romance  \n",
       "3                         Comedy|Drama|Romance  \n",
       "4                                       Comedy  "
      ]
     },
     "execution_count": 5,
     "metadata": {},
     "output_type": "execute_result"
    }
   ],
   "source": [
    "movies.head()"
   ]
  },
  {
   "cell_type": "code",
   "execution_count": 6,
   "metadata": {},
   "outputs": [
    {
     "data": {
      "text/html": [
       "<div>\n",
       "<style scoped>\n",
       "    .dataframe tbody tr th:only-of-type {\n",
       "        vertical-align: middle;\n",
       "    }\n",
       "\n",
       "    .dataframe tbody tr th {\n",
       "        vertical-align: top;\n",
       "    }\n",
       "\n",
       "    .dataframe thead th {\n",
       "        text-align: right;\n",
       "    }\n",
       "</style>\n",
       "<table border=\"1\" class=\"dataframe\">\n",
       "  <thead>\n",
       "    <tr style=\"text-align: right;\">\n",
       "      <th></th>\n",
       "      <th>userId</th>\n",
       "      <th>movieId</th>\n",
       "      <th>rating</th>\n",
       "      <th>timestamp</th>\n",
       "    </tr>\n",
       "  </thead>\n",
       "  <tbody>\n",
       "    <tr>\n",
       "      <th>0</th>\n",
       "      <td>1</td>\n",
       "      <td>2</td>\n",
       "      <td>3.5</td>\n",
       "      <td>1112486027</td>\n",
       "    </tr>\n",
       "    <tr>\n",
       "      <th>1</th>\n",
       "      <td>1</td>\n",
       "      <td>29</td>\n",
       "      <td>3.5</td>\n",
       "      <td>1112484676</td>\n",
       "    </tr>\n",
       "    <tr>\n",
       "      <th>2</th>\n",
       "      <td>1</td>\n",
       "      <td>32</td>\n",
       "      <td>3.5</td>\n",
       "      <td>1112484819</td>\n",
       "    </tr>\n",
       "    <tr>\n",
       "      <th>3</th>\n",
       "      <td>1</td>\n",
       "      <td>47</td>\n",
       "      <td>3.5</td>\n",
       "      <td>1112484727</td>\n",
       "    </tr>\n",
       "    <tr>\n",
       "      <th>4</th>\n",
       "      <td>1</td>\n",
       "      <td>50</td>\n",
       "      <td>3.5</td>\n",
       "      <td>1112484580</td>\n",
       "    </tr>\n",
       "  </tbody>\n",
       "</table>\n",
       "</div>"
      ],
      "text/plain": [
       "   userId  movieId  rating   timestamp\n",
       "0       1        2     3.5  1112486027\n",
       "1       1       29     3.5  1112484676\n",
       "2       1       32     3.5  1112484819\n",
       "3       1       47     3.5  1112484727\n",
       "4       1       50     3.5  1112484580"
      ]
     },
     "execution_count": 6,
     "metadata": {},
     "output_type": "execute_result"
    }
   ],
   "source": [
    "ratings.head()"
   ]
  },
  {
   "cell_type": "code",
   "execution_count": 10,
   "metadata": {},
   "outputs": [],
   "source": [
    "data = pd.merge(movies,ratings,on='movieId',how='left')"
   ]
  },
  {
   "cell_type": "code",
   "execution_count": 12,
   "metadata": {},
   "outputs": [],
   "source": [
    "data[['userId','rating','movieId','title']].sort_values('userId').to_csv(r\"F:\\baidudownload\\ml-20m\\ml-20m\\data.csv\",index=False)"
   ]
  },
  {
   "cell_type": "markdown",
   "metadata": {},
   "source": [
    "### 采用python字典来表示每位用户评论的电影和评分"
   ]
  },
  {
   "cell_type": "code",
   "execution_count": 25,
   "metadata": {},
   "outputs": [],
   "source": [
    "files = open(r\"F:\\baidudownload\\ml-20m\\ml-20m\\data.csv\",'r',encoding=\"UTF-8\")\n",
    "# 读取data文件中每行中除了名字的数据\n",
    "data = {} ## 存放每个用户评论的电影和评分\n",
    "for line in files.readlines():\n",
    "    line = line.strip().split(',')\n",
    "    # 如果字典中没有某位用户，则使用用户ID来创建这位用户\n",
    "    if not line[0] in data.keys():\n",
    "        data[line[0]] = {line[3]:line[1]} # 子字典\n",
    "    else:\n",
    "         data[line[0]][line[3]] = line[1]"
   ]
  },
  {
   "cell_type": "markdown",
   "metadata": {},
   "source": [
    "## 计算任何两位用户之间的相似度，由于每位用户评论的电影不完全一样，所以兽先要找到两位用户共同评论过的电影然后计算两者之间的欧式距离，最后算出两者之间的相似度"
   ]
  },
  {
   "cell_type": "code",
   "execution_count": 16,
   "metadata": {},
   "outputs": [],
   "source": [
    "from math import *"
   ]
  },
  {
   "cell_type": "code",
   "execution_count": 38,
   "metadata": {},
   "outputs": [],
   "source": [
    "def Euclidean(user1,user2):\n",
    "    # 取出两位用户评论过的电影和评分\n",
    "    user1_data = data[user1]\n",
    "    user2_data = data[user2]\n",
    "    \n",
    "    # 找到两位用户都评论过的电影，并计算两者的欧式距离\n",
    "    for key in user1_data.keys():\n",
    "        if key in user2_data.keys():\n",
    "#             print(user1_data[key],user2_data[key])\n",
    "            try:\n",
    "                distance +=pow((float(user1_data[key])-float(user2_data[key])),2)\n",
    "            except:\n",
    "                print(\"error:\",user2_data[key])\n",
    "    return 1/(1+sqrt(distance)) # 计算返回值越小，相似度越大"
   ]
  },
  {
   "cell_type": "code",
   "execution_count": 39,
   "metadata": {},
   "outputs": [
    {
     "name": "stdout",
     "output_type": "stream",
     "text": [
      "error: \n",
      "[('17602.0', 0.037535053785096986), ('67346.0', 0.03923924660549805), ('116900.0', 0.03938151824124737), ('130390.0', 0.042373278587501804)]\n"
     ]
    }
   ],
   "source": [
    "# 计算某个用户与其他用的相似度\n",
    "def top10_simliar(userID):\n",
    "    res = []\n",
    "    for userid in data.keys():\n",
    "        # 排除自己计算相似度\n",
    "        if not userid == userID:\n",
    "            simliar = Euclidean(userID,userid)\n",
    "            res.append((userid,simliar))\n",
    "    res.sort(key=lambda val:val[1])# 按照相似度最大顺序排序\n",
    "    return res[:4]\n",
    "RES = top10_simliar('1.0')\n",
    "print(RES)"
   ]
  },
  {
   "cell_type": "markdown",
   "metadata": {},
   "source": [
    "## 根据相似度来推荐用户"
   ]
  },
  {
   "cell_type": "code",
   "execution_count": 45,
   "metadata": {},
   "outputs": [
    {
     "name": "stdout",
     "output_type": "stream",
     "text": [
      "error: \n",
      "[('Good Will Hunting (1997)', '5.0'), ('Horton Hears a Who! (2008)', '5.0'), ('Billy Madison (1995)', '5.0'), ('Julie & Julia (2009)', '5.0'), ('Chocolat (2000)', '5.0'), ('Harry Potter and the Order of the Phoenix (2007)', '5.0'), ('\"Sisterhood of the Traveling Pants', '5.0'), ('\"Secret Life of Bees', '5.0'), ('Happy Gilmore (1996)', '5.0'), ('Big Daddy (1999)', '5.0')]\n"
     ]
    }
   ],
   "source": [
    "def recommend(user):\n",
    "    # 相似度最高用户\n",
    "    top_sim_user = top10_simliar(user)[0][0]\n",
    "    # 相似度最高用户的观影记录\n",
    "    items = data[top_sim_user]\n",
    "    recommendations = []\n",
    "    # 筛选出该用户未观看的电影病添加到列表中\n",
    "    for item in items.keys():\n",
    "        if item not in data[user].keys():\n",
    "            recommendations.append((item,items[item]))\n",
    "    recommendations.sort(key=lambda val :val[1],reverse=True) # 按照评分排序\n",
    "    # 返回评分最高的10部电影\n",
    "    return recommendations[:10]\n",
    "Recommend = recommend('1.0')\n",
    "print(Recommend)"
   ]
  },
  {
   "cell_type": "markdown",
   "metadata": {},
   "source": [
    "#### \n",
    "但有时我们会碰到因为两个用户之间数据由于数据膨胀，一方数据大，一方数据小，但是两者称明显的线性关系\n",
    "\n",
    "我们引入Pearson相关系数来衡量两个变量之间的线性相关性。\n",
    "\n",
    "Pearson：-1~1   -1：完全负相关  1：完全正相关  0：不相关              \n",
    "\n",
    "相关系数 0.8-1.0 极强相关\n",
    "\n",
    "0.6-0.8 强相关\n",
    "\n",
    "0.4-0.6 中等程度相关\n",
    "\n",
    "0.2-0.4 弱相关\n",
    "\n",
    "0.0-0.2 极弱相关或无相关\n",
    "\n",
    "公式："
   ]
  },
  {
   "cell_type": "code",
   "execution_count": 61,
   "metadata": {},
   "outputs": [
    {
     "name": "stdout",
     "output_type": "stream",
     "text": [
      "0.22531203182281434\n"
     ]
    }
   ],
   "source": [
    "########################################################################\n",
    "##计算两用户之间的Pearson相关系数\n",
    "def pearson_sim(user1,user2):\n",
    "    # 取出两位用户评论过的电影和评分\n",
    "    user1_data = data[user1]\n",
    "    user2_data = data[user2]\n",
    "    distance = 0\n",
    "    common = {}\n",
    " \n",
    "    # 找到两位用户都评论过的电影\n",
    "    for key in user1_data.keys():\n",
    "        if key in user2_data.keys():\n",
    "            common[key] = 1\n",
    "    if len(common) == 0:\n",
    "        return 0#如果没有共同评论过的电影，则返回0\n",
    "    n = len(common)#共同电影数目\n",
    "#     print(n,common)\n",
    " \n",
    "    ##计算评分和\n",
    "    try:\n",
    "        sum1 = sum([float(user1_data[movie]) for movie in common])\n",
    "        sum2 = sum([float(user2_data[movie]) for movie in common])\n",
    "\n",
    "        ##计算评分平方和\n",
    "        sum1Sq = sum([pow(float(user1_data[movie]),2) for movie in common])\n",
    "        sum2Sq = sum([pow(float(user2_data[movie]),2) for movie in common])\n",
    "\n",
    "        ##计算乘积和\n",
    "        PSum = sum([float(user1_data[it])*float(user2_data[it]) for it in common])\n",
    " \n",
    "        ##计算相关系数\n",
    "        num = PSum - (sum1*sum2/n)\n",
    "        den = sqrt((sum1Sq-pow(sum1,2)/n)*(sum2Sq-pow(sum2,2)/n))\n",
    "    except:\n",
    "        den = 999\n",
    "        num = 0\n",
    "        print('error:') \n",
    "    if den == 0:\n",
    "        return 0\n",
    "    r = num/den\n",
    "    return r\n",
    " \n",
    "R = pearson_sim('1.0','3.0')\n",
    "print(R)"
   ]
  },
  {
   "cell_type": "code",
   "execution_count": 63,
   "metadata": {},
   "outputs": [],
   "source": [
    "# 计算某个用户与其他用的相似度\n",
    "def top10_simliar(userID):\n",
    "    res = []\n",
    "    for userid in data.keys():\n",
    "        # 排除自己计算相似度\n",
    "        if not userid == userID:\n",
    "            simliar = pearson_sim(userID,userid)\n",
    "            res.append((userid,simliar))\n",
    "    res.sort(key=lambda val:val[1])# 按照相似度最大顺序排序\n",
    "    return res[-4:]"
   ]
  },
  {
   "cell_type": "code",
   "execution_count": 64,
   "metadata": {},
   "outputs": [
    {
     "name": "stdout",
     "output_type": "stream",
     "text": [
      "error:\n",
      "[('79721.0', 1.000000000000017), ('60581.0', 1.0000000000000187), ('83906.0', 1.0000000000000213), ('103682.0', 1.0000000000000255)]\n"
     ]
    }
   ],
   "source": [
    "RES = top10_simliar('1.0')\n",
    "print(RES)"
   ]
  },
  {
   "cell_type": "code",
   "execution_count": 65,
   "metadata": {},
   "outputs": [
    {
     "name": "stdout",
     "output_type": "stream",
     "text": [
      "error:\n",
      "[('\"Italian Job', '5.0'), ('\"Clockwork Orange', '5.0'), ('RocknRolla (2008)', '5.0'), ('No Country for Old Men (2007)', '5.0'), ('21 Grams (2003)', '5.0'), ('Layer Cake (2004)', '5.0'), ('Seven Pounds (2008)', '5.0'), ('Trainspotting (1996)', '5.0'), (\"Carlito's Way (1993)\", '5.0'), ('Crash (2004)', '5.0')]\n"
     ]
    }
   ],
   "source": [
    "def recommend(user):\n",
    "    # 相似度最高用户\n",
    "    top_sim_user = top10_simliar(user)[0][0]\n",
    "    # 相似度最高用户的观影记录\n",
    "    items = data[top_sim_user]\n",
    "    recommendations = []\n",
    "    # 筛选出该用户未观看的电影病添加到列表中\n",
    "    for item in items.keys():\n",
    "        if item not in data[user].keys():\n",
    "            recommendations.append((item,items[item]))\n",
    "    recommendations.sort(key=lambda val :val[1],reverse=True) # 按照评分排序\n",
    "    # 返回评分最高的10部电影\n",
    "    return recommendations[:10]\n",
    "Recommend = recommend('1.0')\n",
    "print(Recommend)"
   ]
  },
  {
   "cell_type": "code",
   "execution_count": null,
   "metadata": {},
   "outputs": [],
   "source": []
  }
 ],
 "metadata": {
  "kernelspec": {
   "display_name": "Python 3",
   "language": "python",
   "name": "python3"
  },
  "language_info": {
   "codemirror_mode": {
    "name": "ipython",
    "version": 3
   },
   "file_extension": ".py",
   "mimetype": "text/x-python",
   "name": "python",
   "nbconvert_exporter": "python",
   "pygments_lexer": "ipython3",
   "version": "3.6.5"
  }
 },
 "nbformat": 4,
 "nbformat_minor": 1
}
